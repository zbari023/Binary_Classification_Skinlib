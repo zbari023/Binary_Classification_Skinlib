{
 "cells": [
  {
   "cell_type": "markdown",
   "id": "62b1851a",
   "metadata": {},
   "source": [
    "## Importieren der  deep learning-Bibliotheken und Funktionen"
   ]
  },
  {
   "cell_type": "code",
   "execution_count": 10,
   "id": "ab867aa3",
   "metadata": {},
   "outputs": [
    {
     "name": "stdout",
     "output_type": "stream",
     "text": [
      "2.15.0\n"
     ]
    }
   ],
   "source": [
    "import tensorflow as tf # Deep Learning-Bibliothek\n",
    "import os  # os ist ein Modul in Python um das Datei, durch das Dateisystem zu navigieren\n",
    "import glob   # wird benutzt, um die Dateien enthaltenen Verzeichnissen in Dataframe auszudrucken\n",
    "import pandas as pd\n",
    "print(tf.__version__)"
   ]
  },
  {
   "cell_type": "markdown",
   "id": "06581d8a",
   "metadata": {},
   "source": [
    "## Die verfügbare Device in PC"
   ]
  },
  {
   "cell_type": "code",
   "execution_count": 11,
   "id": "47b8146e",
   "metadata": {},
   "outputs": [
    {
     "data": {
      "text/plain": [
       "[PhysicalDevice(name='/physical_device:CPU:0', device_type='CPU')]"
      ]
     },
     "execution_count": 11,
     "metadata": {},
     "output_type": "execute_result"
    }
   ],
   "source": [
    "cpus = tf.config.experimental.list_physical_devices('CPU')\n",
    "cpus"
   ]
  },
  {
   "cell_type": "markdown",
   "id": "69e676d5",
   "metadata": {},
   "source": [
    "## Importieren, Auslesen der train-Daten und in Dataframe-Struktur ausdrucken"
   ]
  },
  {
   "cell_type": "code",
   "execution_count": 12,
   "id": "7d1e89d2",
   "metadata": {},
   "outputs": [],
   "source": [
    "data_dir = 'data'\n",
    "\n",
    "filepaths = glob.glob(os.path.join(data_dir, '*', '*'))\n",
    "labels = [os.path.basename(os.path.dirname(fp)) for fp in filepaths]\n",
    "\n",
    "train_df = pd.DataFrame({'filepaths': filepaths, 'labels': labels})"
   ]
  },
  {
   "cell_type": "code",
   "execution_count": 13,
   "id": "19d8b505",
   "metadata": {},
   "outputs": [
    {
     "data": {
      "text/html": [
       "<div>\n",
       "<style scoped>\n",
       "    .dataframe tbody tr th:only-of-type {\n",
       "        vertical-align: middle;\n",
       "    }\n",
       "\n",
       "    .dataframe tbody tr th {\n",
       "        vertical-align: top;\n",
       "    }\n",
       "\n",
       "    .dataframe thead th {\n",
       "        text-align: right;\n",
       "    }\n",
       "</style>\n",
       "<table border=\"1\" class=\"dataframe\">\n",
       "  <thead>\n",
       "    <tr style=\"text-align: right;\">\n",
       "      <th></th>\n",
       "      <th>filepaths</th>\n",
       "      <th>labels</th>\n",
       "    </tr>\n",
       "  </thead>\n",
       "  <tbody>\n",
       "    <tr>\n",
       "      <th>0</th>\n",
       "      <td>data\\Benign cancer\\ISIC_0000000.jpg</td>\n",
       "      <td>Benign cancer</td>\n",
       "    </tr>\n",
       "    <tr>\n",
       "      <th>1</th>\n",
       "      <td>data\\Benign cancer\\ISIC_0000001.jpg</td>\n",
       "      <td>Benign cancer</td>\n",
       "    </tr>\n",
       "    <tr>\n",
       "      <th>2</th>\n",
       "      <td>data\\Benign cancer\\ISIC_0000003.jpg</td>\n",
       "      <td>Benign cancer</td>\n",
       "    </tr>\n",
       "    <tr>\n",
       "      <th>3</th>\n",
       "      <td>data\\Benign cancer\\ISIC_0000006.jpg</td>\n",
       "      <td>Benign cancer</td>\n",
       "    </tr>\n",
       "    <tr>\n",
       "      <th>4</th>\n",
       "      <td>data\\Benign cancer\\ISIC_0000007.jpg</td>\n",
       "      <td>Benign cancer</td>\n",
       "    </tr>\n",
       "    <tr>\n",
       "      <th>...</th>\n",
       "      <td>...</td>\n",
       "      <td>...</td>\n",
       "    </tr>\n",
       "    <tr>\n",
       "      <th>1089</th>\n",
       "      <td>data\\cancer\\ISIC_0055342.jpg</td>\n",
       "      <td>cancer</td>\n",
       "    </tr>\n",
       "    <tr>\n",
       "      <th>1090</th>\n",
       "      <td>data\\cancer\\ISIC_0055352.jpg</td>\n",
       "      <td>cancer</td>\n",
       "    </tr>\n",
       "    <tr>\n",
       "      <th>1091</th>\n",
       "      <td>data\\cancer\\ISIC_0055650.jpg</td>\n",
       "      <td>cancer</td>\n",
       "    </tr>\n",
       "    <tr>\n",
       "      <th>1092</th>\n",
       "      <td>data\\cancer\\ISIC_0056264.jpg</td>\n",
       "      <td>cancer</td>\n",
       "    </tr>\n",
       "    <tr>\n",
       "      <th>1093</th>\n",
       "      <td>data\\cancer\\ISIC_0056928.jpg</td>\n",
       "      <td>cancer</td>\n",
       "    </tr>\n",
       "  </tbody>\n",
       "</table>\n",
       "<p>1094 rows × 2 columns</p>\n",
       "</div>"
      ],
      "text/plain": [
       "                                filepaths         labels\n",
       "0     data\\Benign cancer\\ISIC_0000000.jpg  Benign cancer\n",
       "1     data\\Benign cancer\\ISIC_0000001.jpg  Benign cancer\n",
       "2     data\\Benign cancer\\ISIC_0000003.jpg  Benign cancer\n",
       "3     data\\Benign cancer\\ISIC_0000006.jpg  Benign cancer\n",
       "4     data\\Benign cancer\\ISIC_0000007.jpg  Benign cancer\n",
       "...                                   ...            ...\n",
       "1089         data\\cancer\\ISIC_0055342.jpg         cancer\n",
       "1090         data\\cancer\\ISIC_0055352.jpg         cancer\n",
       "1091         data\\cancer\\ISIC_0055650.jpg         cancer\n",
       "1092         data\\cancer\\ISIC_0056264.jpg         cancer\n",
       "1093         data\\cancer\\ISIC_0056928.jpg         cancer\n",
       "\n",
       "[1094 rows x 2 columns]"
      ]
     },
     "execution_count": 13,
     "metadata": {},
     "output_type": "execute_result"
    }
   ],
   "source": [
    "train_df"
   ]
  }
 ],
 "metadata": {
  "kernelspec": {
   "display_name": "Python 3 (ipykernel)",
   "language": "python",
   "name": "python3"
  },
  "language_info": {
   "codemirror_mode": {
    "name": "ipython",
    "version": 3
   },
   "file_extension": ".py",
   "mimetype": "text/x-python",
   "name": "python",
   "nbconvert_exporter": "python",
   "pygments_lexer": "ipython3",
   "version": "3.11.4"
  }
 },
 "nbformat": 4,
 "nbformat_minor": 5
}
