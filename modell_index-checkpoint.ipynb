{
 "cells": [
  {
   "cell_type": "markdown",
   "id": "05752bc1",
   "metadata": {},
   "source": [
    "## Importieren der  deep learning-Bibliotheken und Funktionen"
   ]
  },
  {
   "cell_type": "code",
   "execution_count": 4,
   "id": "7b096970",
   "metadata": {},
   "outputs": [
    {
     "name": "stdout",
     "output_type": "stream",
     "text": [
      "2.15.0\n"
     ]
    }
   ],
   "source": [
    "import tensorflow as tf # Deep Learning-Bibliothek\n",
    "import os  # os ist ein Modul in Python zum Navigieren des Dateistruktur\n",
    "print(tf.__version__)"
   ]
  },
  {
   "cell_type": "code",
   "execution_count": null,
   "id": "362cd6de",
   "metadata": {},
   "outputs": [],
   "source": []
  }
 ],
 "metadata": {
  "kernelspec": {
   "display_name": "Python 3 (ipykernel)",
   "language": "python",
   "name": "python3"
  },
  "language_info": {
   "codemirror_mode": {
    "name": "ipython",
    "version": 3
   },
   "file_extension": ".py",
   "mimetype": "text/x-python",
   "name": "python",
   "nbconvert_exporter": "python",
   "pygments_lexer": "ipython3",
   "version": "3.11.4"
  }
 },
 "nbformat": 4,
 "nbformat_minor": 5
}
