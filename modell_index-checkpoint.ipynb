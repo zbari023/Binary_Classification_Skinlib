{
 "cells": [
  {
   "cell_type": "markdown",
   "id": "be324780",
   "metadata": {},
   "source": [
    "## Importieren der  deep learning-Bibliotheken und Funktionen"
   ]
  },
  {
   "cell_type": "code",
   "execution_count": 4,
   "id": "43a1ac3c",
   "metadata": {},
   "outputs": [
    {
     "name": "stdout",
     "output_type": "stream",
     "text": [
      "2.15.0\n"
     ]
    }
   ],
   "source": [
    "import tensorflow as tf # Deep Learning-Bibliothek\n",
    "import os  # os ist ein Modul in Python um das Datei, durch das Dateisystem zu navigieren\n",
    "import glob   # wird benutzt, um die Dateien enthaltenen Verzeichnissen in Dataframe auszudrucken\n",
    "import pandas as pd\n",
    "print(tf.__version__)"
   ]
  },
  {
   "cell_type": "markdown",
   "id": "e67681db",
   "metadata": {},
   "source": [
    "## Die verfügbare Device in PC"
   ]
  },
  {
   "cell_type": "code",
   "execution_count": 9,
   "id": "ed49e768",
   "metadata": {},
   "outputs": [
    {
     "data": {
      "text/plain": [
       "[PhysicalDevice(name='/physical_device:CPU:0', device_type='CPU')]"
      ]
     },
     "execution_count": 9,
     "metadata": {},
     "output_type": "execute_result"
    }
   ],
   "source": [
    "cpus = tf.config.experimental.list_physical_devices('CPU')\n",
    "cpus"
   ]
  }
 ],
 "metadata": {
  "kernelspec": {
   "display_name": "Python 3 (ipykernel)",
   "language": "python",
   "name": "python3"
  },
  "language_info": {
   "codemirror_mode": {
    "name": "ipython",
    "version": 3
   },
   "file_extension": ".py",
   "mimetype": "text/x-python",
   "name": "python",
   "nbconvert_exporter": "python",
   "pygments_lexer": "ipython3",
   "version": "3.11.4"
  }
 },
 "nbformat": 4,
 "nbformat_minor": 5
}
